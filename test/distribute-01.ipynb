{
 "cells": [
  {
   "cell_type": "code",
   "execution_count": 4,
   "metadata": {},
   "outputs": [],
   "source": [
    "include(\"main_par.jl\")"
   ]
  },
  {
   "cell_type": "code",
   "execution_count": 5,
   "metadata": {},
   "outputs": [
    {
     "data": {
      "text/plain": [
       "4-element Vector{Int64}:\n",
       " 2\n",
       " 3\n",
       " 4\n",
       " 5"
      ]
     },
     "metadata": {},
     "output_type": "display_data"
    }
   ],
   "source": [
    "addprocs(4)\n"
   ]
  },
  {
   "cell_type": "code",
   "execution_count": 6,
   "metadata": {},
   "outputs": [],
   "source": [
    "@everywhere include(\"main_par.jl\")\n"
   ]
  },
  {
   "cell_type": "code",
   "execution_count": 7,
   "metadata": {},
   "outputs": [
    {
     "name": "stdout",
     "output_type": "stream",
     "text": [
      "  3.764031 seconds (1.49 M allocations: 99.908 MiB, 0.88% gc time, 25.28% compilation time)\n"
     ]
    }
   ],
   "source": [
    "dims = (1000, 1500, 365)\n",
    "A = rand(Float32, dims...);\n",
    "# @time A_share = SharedArray{Float32}(dims...);\n",
    "# @time A_share .= A;\n",
    "@time B = SharedArray(A);\n"
   ]
  },
  {
   "cell_type": "code",
   "execution_count": 8,
   "metadata": {},
   "outputs": [],
   "source": [
    "function mean_par(A::SharedArray{Float32,3})\n",
    "  nrow, ncol = size(A)[1:2]\n",
    "  res = zeros(Float32, nrow, ncol)\n",
    "\n",
    "  @distributed for i = 1:nrow\n",
    "    for j = 1:ncol\n",
    "      x = A[i, j, :]\n",
    "      res[i, j] = mean(x)\n",
    "    end\n",
    "  end\n",
    "  wait()\n",
    "  res\n",
    "end\n",
    "\n",
    "@time r2 = mean_par(B);\n"
   ]
  },
  {
   "cell_type": "code",
   "execution_count": null,
   "metadata": {},
   "outputs": [],
   "source": [
    "r2"
   ]
  }
 ],
 "metadata": {
  "kernelspec": {
   "display_name": "Julia 1.9.3",
   "language": "julia",
   "name": "julia-1.9"
  },
  "language_info": {
   "file_extension": ".jl",
   "mimetype": "application/julia",
   "name": "julia",
   "version": "1.9.3"
  },
  "orig_nbformat": 4
 },
 "nbformat": 4,
 "nbformat_minor": 2
}
